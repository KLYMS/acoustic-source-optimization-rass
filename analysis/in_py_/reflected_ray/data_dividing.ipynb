{
 "cells": [
  {
   "cell_type": "code",
   "execution_count": null,
   "id": "cc435d75-9fde-4b89-bb06-08e22f7a180d",
   "metadata": {},
   "outputs": [],
   "source": [
    "import numpy as np\n",
    "import pandas as pd"
   ]
  },
  {
   "cell_type": "code",
   "execution_count": null,
   "id": "3165eacb-2bcb-4b5f-8e6d-2475c54f1c5f",
   "metadata": {},
   "outputs": [],
   "source": [
    "df = pd.read_csv('/home/murali/Documents/rass/data/sim_data/cpp_sim/wTemp_wWind_cpp_alglib_CS_1.csv')\n",
    "\n",
    "group_t = df.groupby('time')\n",
    "\n",
    "for t in df['time'].unique():\n",
    "    df_= group_t.get_group(t)\n",
    "    df_.to_csv(f'/home/murali/Documents/rass/data/sim_data/dived_data/cpp_data/alglib_CS_1/wTemp_wWind_cpp_alglib_CS_1_{t}.csv', index=False)\n",
    "\n",
    "t_step = df['time'].unique()\n",
    "np.savetxt('/home/murali/Documents/rass/data/sim_data/dived_data/cpp_data/alglib_CS_1/time_step_cpp_alglib_CS_1.txt', t_step, fmt='%d')"
   ]
  },
  {
   "cell_type": "code",
   "execution_count": null,
   "id": "a4df4c30-b08d-4a90-9fa7-27ad2f536d7c",
   "metadata": {},
   "outputs": [],
   "source": []
  },
  {
   "cell_type": "code",
   "execution_count": null,
   "id": "4329e8a2-f608-4ae1-8602-44c1cdee3299",
   "metadata": {},
   "outputs": [],
   "source": []
  },
  {
   "cell_type": "code",
   "execution_count": null,
   "id": "646b7556-936c-4730-ae19-b9ef2b953943",
   "metadata": {},
   "outputs": [],
   "source": []
  }
 ],
 "metadata": {
  "kernelspec": {
   "display_name": "Python 3 (ipykernel)",
   "language": "python",
   "name": "python3"
  },
  "language_info": {
   "codemirror_mode": {
    "name": "ipython",
    "version": 3
   },
   "file_extension": ".py",
   "mimetype": "text/x-python",
   "name": "python",
   "nbconvert_exporter": "python",
   "pygments_lexer": "ipython3",
   "version": "3.9.21"
  }
 },
 "nbformat": 4,
 "nbformat_minor": 5
}
